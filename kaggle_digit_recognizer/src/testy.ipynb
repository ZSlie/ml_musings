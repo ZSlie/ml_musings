{
 "cells": [
  {
   "cell_type": "markdown",
   "id": "b23002c8",
   "metadata": {},
   "source": [
    "## This is to attempt a > 99.7% MNIST accuracy within Kaggle"
   ]
  },
  {
   "cell_type": "markdown",
   "id": "6d63d359",
   "metadata": {},
   "source": [
    "The competition can be found [here](https://www.kaggle.com/competitions/digit-recognizer/overview)."
   ]
  },
  {
   "cell_type": "code",
   "execution_count": null,
   "id": "b7ef0f9a",
   "metadata": {},
   "outputs": [],
   "source": []
  }
 ],
 "metadata": {
  "kernelspec": {
   "display_name": "Python 3 (ipykernel)",
   "language": "python",
   "name": "python3"
  },
  "language_info": {
   "codemirror_mode": {
    "name": "ipython",
    "version": 3
   },
   "file_extension": ".py",
   "mimetype": "text/x-python",
   "name": "python",
   "nbconvert_exporter": "python",
   "pygments_lexer": "ipython3",
   "version": "3.11.5"
  }
 },
 "nbformat": 4,
 "nbformat_minor": 5
}
