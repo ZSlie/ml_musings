{
 "cells": [
  {
   "cell_type": "markdown",
   "id": "0d8e0bda-ac75-4378-9dfe-23fbfff9bae5",
   "metadata": {},
   "source": [
    "## Exploring the Results from Cloud Vision"
   ]
  },
  {
   "cell_type": "markdown",
   "id": "873baf5e-843a-49b4-99ee-ac375f875e83",
   "metadata": {},
   "source": [
    "Import statements"
   ]
  },
  {
   "cell_type": "code",
   "execution_count": 32,
   "id": "dd61be9b-daad-4cf7-b40b-e570f8a41d15",
   "metadata": {},
   "outputs": [],
   "source": [
    "import matplotlib\n",
    "import matplotlib.pylab as plt\n",
    "import pandas as pd\n",
    "import json\n",
    "import os"
   ]
  },
  {
   "cell_type": "code",
   "execution_count": 19,
   "id": "1fac4007-1ec0-4c46-b8af-d257600ccd51",
   "metadata": {},
   "outputs": [
    {
     "name": "stdout",
     "output_type": "stream",
     "text": [
      "Error processing:  m06-031-s03-00.json\n",
      "Error processing:  b06-023-s00-02.json\n",
      "Error processing:  g06-018c-s01-00.json\n",
      "Error processing:  n06-123-s03-00.json\n",
      "Error processing:  g06-042i-s01-00.json\n",
      "Error processing:  g06-089-s02-03.json\n",
      "Error processing:  g06-042g-s01-00.json\n",
      "Error processing:  a01-058u-s03-00.json\n",
      "Error processing:  c06-052-s03-00.json\n",
      "Error processing:  a01-058u-s01-00.json\n",
      "Error processing:  g06-011j-s04-00.json\n",
      "Error processing:  p03-112-s05-00.json\n",
      "Error processing:  c03-087a-s01-03.json\n",
      "Error processing:  a05-017-s03-00.json\n",
      "Error processing:  j06-008-s02-00.json\n",
      "Error processing:  g06-011l-s01-00.json\n",
      "Error processing:  r06-097-s03-01.json\n",
      "Error processing:  a01-102u-s03-00.json\n",
      "Error processing:  g06-050n-s02-00.json\n",
      "Error processing:  g06-011f-s05-00.json\n",
      "Error processing:  a06-134-s01-00.json\n",
      "Error processing:  g06-018n-s00-03.json\n",
      "Error processing:  m06-031-s02-00.json\n",
      "Error processing:  d06-063-s00-02.json\n",
      "Error processing:  n06-163-s02-00.json\n",
      "Error processing:  m06-031-s04-00.json\n",
      "Error processing:  c03-003f-s02-00.json\n",
      "Error processing:  g06-011n-s04-02.json\n",
      "Error processing:  g06-011n-s01-03.json\n",
      "Error processing:  c03-087b-s00-01.json\n",
      "Error processing:  d06-050-s03-00.json\n",
      "Error processing:  g06-031o-s01-00.json\n"
     ]
    }
   ],
   "source": [
    "\n",
    "dataset_dir = os.path.expanduser(\"~\") + \"/datasets/handwriting/IAM_Handwriting_Top50/\"\n",
    "images_dir = dataset_dir + \"data_subset/\"\n",
    "analysis_dir = dataset_dir + \"gcloud_analysis/\"\n",
    "\n",
    "fullTextAnnotationDict = {}\n",
    "\n",
    "for filename in os.listdir(analysis_dir):\n",
    "    f = os.path.join(analysis_dir, filename)\n",
    "    \n",
    "    with open(f, encoding='utf-8', errors='ignore') as file: \n",
    "        try :\n",
    "            js = json.load(file)\n",
    "            \n",
    "            fullTextAnnotationDict[filename] = js['responses'][0]['fullTextAnnotation']\n",
    "        except:\n",
    "            print(\"Error processing: \", filename)"
   ]
  },
  {
   "cell_type": "code",
   "execution_count": 20,
   "id": "22f005c5-2fd1-407e-852f-c0e7ed90e6dc",
   "metadata": {},
   "outputs": [
    {
     "data": {
      "text/plain": [
       "4866"
      ]
     },
     "execution_count": 20,
     "metadata": {},
     "output_type": "execute_result"
    }
   ],
   "source": [
    "len(fullTextAnnotationDict)"
   ]
  },
  {
   "cell_type": "code",
   "execution_count": 40,
   "id": "c438ae3d-2676-45ce-919f-c690d635c864",
   "metadata": {},
   "outputs": [
    {
     "data": {
      "image/png": "[encoded data removed]",
      "text/plain": [
       "<Figure size 640x480 with 1 Axes>"
      ]
     },
     "metadata": {},
     "output_type": "display_data"
    }
   ],
   "source": [
    "confidence = [x['pages'][0]['confidence'] for x in fullTextAnnotationDict.values()]\n",
    "cpd = pd.DataFrame(confidence)\n",
    "# print(len(confidence))\n",
    "plt.hist(cpd.values, bins=20)\n",
    "plt.show()"
   ]
  },
  {
   "cell_type": "code",
   "execution_count": null,
   "id": "c57313c7-f5f3-4711-95a0-e53652ff7609",
   "metadata": {},
   "outputs": [],
   "source": []
  }
 ],
 "metadata": {
  "kernelspec": {
   "display_name": "Python 3 (ipykernel)",
   "language": "python",
   "name": "python3"
  },
  "language_info": {
   "codemirror_mode": {
    "name": "ipython",
    "version": 3
   },
   "file_extension": ".py",
   "mimetype": "text/x-python",
   "name": "python",
   "nbconvert_exporter": "python",
   "pygments_lexer": "ipython3",
   "version": "3.10.12"
  }
 },
 "nbformat": 4,
 "nbformat_minor": 5
}
