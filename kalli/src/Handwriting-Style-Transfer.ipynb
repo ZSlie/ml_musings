{
 "cells": [
  {
   "cell_type": "markdown",
   "id": "f4b66e40",
   "metadata": {},
   "source": [
    "# Handwriting Style Transfer"
   ]
  },
  {
   "cell_type": "code",
   "execution_count": 71,
   "id": "6fd64e88",
   "metadata": {},
   "outputs": [],
   "source": [
    "import warnings\n",
    "warnings.filterwarnings('ignore') # disable during imports due to TF addons EOL\n",
    "\n",
    "import tensorflow as tf\n",
    "from tensorflow import keras\n",
    "from tensorflow.keras import layers\n",
    "from keras_applications.imagenet_utils import _obtain_input_shape \n",
    "import tensorflow_addons as tfa\n",
    "\n",
    "import matplotlib.pyplot as plt\n",
    "import numpy as np\n",
    "import re\n",
    "\n",
    "import os"
   ]
  },
  {
   "cell_type": "markdown",
   "id": "1418ecfa",
   "metadata": {},
   "source": [
    "Get Training Architecture"
   ]
  },
  {
   "cell_type": "code",
   "execution_count": 72,
   "id": "d3be47ca",
   "metadata": {},
   "outputs": [
    {
     "name": "stdout",
     "output_type": "stream",
     "text": [
      "TensorFlow version: 2.14.0\n",
      "TPU not found\n",
      "Device: CPU\n",
      "Number of replicas: 1\n"
     ]
    }
   ],
   "source": [
    "def get_strategy():\n",
    "    \"\"\"\n",
    "    Returns a strategy to use given the available hardware (TPU, GPU, or CPU).\n",
    "    Also, it prints the device type and initializes if it is a TPU.\n",
    "    \"\"\"\n",
    "    try:\n",
    "        tpu = tf.distribute.cluster_resolver.TPUClusterResolver()\n",
    "        print('Device: TPU', tpu.master())\n",
    "        tf.config.experimental_connect_to_cluster(tpu)\n",
    "        tf.tpu.experimental.initialize_tpu_system(tpu)\n",
    "        strategy = tf.distribute.experimental.TPUStrategy(tpu)\n",
    "    except ValueError:\n",
    "        # TPU detection would fail with a ValueError, catch this to proceed to check GPU.\n",
    "        print('TPU not found')\n",
    "        \n",
    "        # Check for GPUs\n",
    "        gpus = tf.config.list_physical_devices('GPU')\n",
    "        if gpus:\n",
    "            try:\n",
    "                # Restrict TensorFlow to only use the first GPU\n",
    "                tf.config.experimental.set_visible_devices(gpus[0], 'GPU')\n",
    "                \n",
    "                for gpu in gpus:\n",
    "                    # Memory growth needs to be the same across GPUs\n",
    "                    tf.config.experimental.set_memory_growth(gpu, True)\n",
    "                print('Device: GPU', gpus)\n",
    "                strategy = tf.distribute.MirroredStrategy()\n",
    "            except RuntimeError as e:\n",
    "                # Visible devices and memory growth must be set before GPUs have been initialized\n",
    "                print(e)\n",
    "                strategy = tf.distribute.get_strategy()\n",
    "        else:\n",
    "            print('Device: CPU')\n",
    "            strategy = tf.distribute.get_strategy()\n",
    "    \n",
    "    print('Number of replicas:', strategy.num_replicas_in_sync)\n",
    "    return strategy\n",
    "\n",
    "AUTOTUNE = tf.data.experimental.AUTOTUNE\n",
    "AUTO = tf.data.experimental.AUTOTUNE   \n",
    "print('TensorFlow version:', tf.__version__)\n",
    "\n",
    "strategy = get_strategy()\n"
   ]
  },
  {
   "cell_type": "code",
   "execution_count": 75,
   "id": "9c2d6563",
   "metadata": {},
   "outputs": [
    {
     "name": "stdout",
     "output_type": "stream",
     "text": [
      "# 1st Author TFREC files:  1\n",
      "# 2nd Author TFREC files:  1\n"
     ]
    }
   ],
   "source": [
    "dataset_dir = os.path.join(os.path.expanduser(\"~\"),\"datasets\", \"handwriting\", \"IAM_Handwriting_Top50\")\n",
    "cropped_dir = os.path.join(dataset_dir, \"cropped\", \"author\")\n",
    "\n",
    "FIRST_AUTHOR_FILENAMES  = tf.io.gfile.glob(os.path.join(cropped_dir, \"000\", \"*.tfrec\"))\n",
    "SECOND_AUTHOR_FILENAMES = tf.io.gfile.glob(os.path.join(cropped_dir, \"150\", \"*.tfrec\"))\n",
    "\n",
    "print(\"# 1st Author TFREC files: \", len(FIRST_AUTHOR_FILENAMES))\n",
    "print(\"# 2nd Author TFREC files: \", len(SECOND_AUTHOR_FILENAMES))"
   ]
  },
  {
   "cell_type": "code",
   "execution_count": 76,
   "id": "0fa1d138",
   "metadata": {},
   "outputs": [],
   "source": [
    "def data_augment_flip(image):\n",
    "    image = tf.image.random_flip_left_right(image)\n",
    "    return image"
   ]
  },
  {
   "cell_type": "code",
   "execution_count": 90,
   "id": "a0c2e59e",
   "metadata": {},
   "outputs": [],
   "source": [
    "IMAGE_SIZE = [150, 150]\n",
    "\n",
    "def decode_image(image):\n",
    "    image = tf.image.decode_png(image, channels=3)\n",
    "    image = (tf.cast(image, tf.float32) / 127.5) - 1\n",
    "    image = tf.reshape(image, [*IMAGE_SIZE, 3])\n",
    "    return image\n",
    "\n",
    "def read_tfrecord(example):\n",
    "    tfrecord_format = {\n",
    "        \"image\": tf.io.FixedLenFeature([], tf.string)\n",
    "    }\n",
    "    example = tf.io.parse_single_example(example, tfrecord_format)\n",
    "    image = decode_image(example['image'])\n",
    "    return image"
   ]
  },
  {
   "cell_type": "code",
   "execution_count": 91,
   "id": "380eea61",
   "metadata": {},
   "outputs": [],
   "source": [
    "def load_dataset(filenames):\n",
    "    dataset = tf.data.TFRecordDataset(filenames)\n",
    "    dataset = dataset.map(read_tfrecord, num_parallel_calls=AUTOTUNE)\n",
    "    return dataset\n",
    "\n",
    "BATCH_SIZE = 32\n",
    "\n",
    "first_author_ds = load_dataset(FIRST_AUTHOR_FILENAMES).batch(1)\n",
    "second_author_ds = load_dataset(SECOND_AUTHOR_FILENAMES).batch(1)\n",
    "\n",
    "fast_photo_ds = load_dataset(SECOND_AUTHOR_FILENAMES).batch(32*strategy.num_replicas_in_sync).prefetch(32)\n",
    "fid_photo_ds = load_dataset(SECOND_AUTHOR_FILENAMES).take(1024).batch(32*strategy.num_replicas_in_sync).prefetch(32)\n",
    "fid_monet_ds = load_dataset(FIRST_AUTHOR_FILENAMES).batch(32*strategy.num_replicas_in_sync).prefetch(32)"
   ]
  },
  {
   "cell_type": "code",
   "execution_count": 92,
   "id": "23ecec10",
   "metadata": {},
   "outputs": [],
   "source": [
    "def get_gan_dataset(first_auth_files, second_auth_files, augment=None, repeat=True, shuffle=True, batch_size=1):\n",
    "    first_ds = load_dataset(first_auth_files)\n",
    "    second_ds = load_dataset(second_auth_files)\n",
    "    \n",
    "    if repeat:\n",
    "        first_ds = first_ds.repeat()\n",
    "        second_ds = second_ds.repeat()\n",
    "    if shuffle:\n",
    "        first_ds = first_ds.shuffle(2048)\n",
    "        second_ds = second_ds.shuffle(2048)\n",
    "        \n",
    "    first_ds = first_ds.batch(batch_size, drop_remainder=True)\n",
    "    second_ds = second_ds.batch(batch_size, drop_remainder=True)\n",
    "    if augment:\n",
    "        monet_ds = first_ds.map(augment, num_parallel_calls=AUTO)\n",
    "        second_ds = second_ds.map(augment, num_parallel_calls=AUTO)\n",
    "        \n",
    "    first_ds = first_ds.prefetch(AUTO)\n",
    "    second_ds = second_ds.prefetch(AUTO)\n",
    "    \n",
    "    gan_ds = tf.data.Dataset.zip((first_ds, second_ds))\n",
    "    \n",
    "    return gan_ds\n",
    "\n",
    "def get_photo_dataset(second_auth_files, augment=None, repeat=False, shuffle=False, batch_size=1):\n",
    "    second_ds = load_dataset(second_auth_files)\n",
    "        \n",
    "    if repeat:\n",
    "        second_ds = second_ds.repeat()\n",
    "    if shuffle:\n",
    "        second_ds = second_ds.shuffle(2048)\n",
    "  \n",
    "    second_ds = second_ds.batch(batch_size, drop_remainder=True)\n",
    "    if augment:\n",
    "        second_ds = second_ds.map(augment, num_parallel_calls=AUTO)\n",
    "    \n",
    "    second_ds = second_ds.prefetch(AUTO)\n",
    "\n",
    "    return second_ds"
   ]
  },
  {
   "cell_type": "code",
   "execution_count": 93,
   "id": "cfeb880d",
   "metadata": {},
   "outputs": [],
   "source": [
    "final_dataset = get_gan_dataset(FIRST_AUTHOR_FILENAMES, \n",
    "                                SECOND_AUTHOR_FILENAMES, \n",
    "                                augment=data_augment_flip, \n",
    "                                repeat=True, \n",
    "                                shuffle=True, \n",
    "                                batch_size=BATCH_SIZE\n",
    "                               )"
   ]
  },
  {
   "cell_type": "code",
   "execution_count": 94,
   "id": "0b513a9b",
   "metadata": {},
   "outputs": [
    {
     "name": "stdout",
     "output_type": "stream",
     "text": [
      "212/212 [==============================] - 30s 139ms/step\n"
     ]
    }
   ],
   "source": [
    "with strategy.scope():\n",
    "    inception_model = tf.keras.applications.InceptionV3(input_shape=(150,150,3),pooling=\"avg\",include_top=False)\n",
    "\n",
    "\n",
    "    mix3  = inception_model.get_layer(\"mixed9\").output\n",
    "    f0 = tf.keras.layers.GlobalAveragePooling2D()(mix3)\n",
    "\n",
    "    inception_model = tf.keras.Model(inputs=inception_model.input, outputs=f0)\n",
    "    inception_model.trainable = False\n",
    "\n",
    "    def calculate_activation_statistics_mod(images,fid_model):\n",
    "            act=tf.cast(fid_model.predict(images), tf.float32)\n",
    "            mu = tf.reduce_mean(act, axis=0)\n",
    "            mean_x = tf.reduce_mean(act, axis=0, keepdims=True)\n",
    "            mx = tf.matmul(tf.transpose(mean_x), mean_x)\n",
    "            vx = tf.matmul(tf.transpose(act), act)/tf.cast(tf.shape(act)[0], tf.float32)\n",
    "            sigma = vx - mx\n",
    "            return mu, sigma\n",
    "    myFID_mu2, myFID_sigma2 = calculate_activation_statistics_mod(fid_monet_ds,inception_model)        \n",
    "    fids=[]"
   ]
  },
  {
   "cell_type": "code",
   "execution_count": null,
   "id": "985e27b7",
   "metadata": {},
   "outputs": [],
   "source": []
  }
 ],
 "metadata": {
  "kernelspec": {
   "display_name": "Python 3 (ipykernel)",
   "language": "python",
   "name": "python3"
  },
  "language_info": {
   "codemirror_mode": {
    "name": "ipython",
    "version": 3
   },
   "file_extension": ".py",
   "mimetype": "text/x-python",
   "name": "python",
   "nbconvert_exporter": "python",
   "pygments_lexer": "ipython3",
   "version": "3.11.5"
  }
 },
 "nbformat": 4,
 "nbformat_minor": 5
}
