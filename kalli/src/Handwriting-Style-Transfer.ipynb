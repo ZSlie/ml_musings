{
 "cells": [
  {
   "cell_type": "markdown",
   "id": "8e7ebda3",
   "metadata": {},
   "source": [
    "# Handwriting Style Transfer"
   ]
  },
  {
   "cell_type": "code",
   "execution_count": 71,
   "id": "c9e239b5",
   "metadata": {},
   "outputs": [],
   "source": [
    "import warnings\n",
    "warnings.filterwarnings('ignore') # disable during imports due to TF addons EOL\n",
    "\n",
    "import tensorflow as tf\n",
    "from tensorflow import keras\n",
    "from tensorflow.keras import layers\n",
    "from keras_applications.imagenet_utils import _obtain_input_shape \n",
    "import tensorflow_addons as tfa\n",
    "\n",
    "import matplotlib.pyplot as plt\n",
    "import numpy as np\n",
    "import re\n",
    "\n",
    "import os"
   ]
  },
  {
   "cell_type": "markdown",
   "id": "1dcc70f3",
   "metadata": {},
   "source": [
    "Get Training Architecture"
   ]
  },
  {
   "cell_type": "code",
   "execution_count": 72,
   "id": "4da12faa",
   "metadata": {},
   "outputs": [
    {
     "name": "stdout",
     "output_type": "stream",
     "text": [
      "TensorFlow version: 2.14.0\n",
      "TPU not found\n",
      "Device: CPU\n",
      "Number of replicas: 1\n"
     ]
    }
   ],
   "source": [
    "def get_strategy():\n",
    "    \"\"\"\n",
    "    Returns a strategy to use given the available hardware (TPU, GPU, or CPU).\n",
    "    Also, it prints the device type and initializes if it is a TPU.\n",
    "    \"\"\"\n",
    "    try:\n",
    "        tpu = tf.distribute.cluster_resolver.TPUClusterResolver()\n",
    "        print('Device: TPU', tpu.master())\n",
    "        tf.config.experimental_connect_to_cluster(tpu)\n",
    "        tf.tpu.experimental.initialize_tpu_system(tpu)\n",
    "        strategy = tf.distribute.experimental.TPUStrategy(tpu)\n",
    "    except ValueError:\n",
    "        # TPU detection would fail with a ValueError, catch this to proceed to check GPU.\n",
    "        print('TPU not found')\n",
    "        \n",
    "        # Check for GPUs\n",
    "        gpus = tf.config.list_physical_devices('GPU')\n",
    "        if gpus:\n",
    "            try:\n",
    "                # Restrict TensorFlow to only use the first GPU\n",
    "                tf.config.experimental.set_visible_devices(gpus[0], 'GPU')\n",
    "                \n",
    "                for gpu in gpus:\n",
    "                    # Memory growth needs to be the same across GPUs\n",
    "                    tf.config.experimental.set_memory_growth(gpu, True)\n",
    "                print('Device: GPU', gpus)\n",
    "                strategy = tf.distribute.MirroredStrategy()\n",
    "            except RuntimeError as e:\n",
    "                # Visible devices and memory growth must be set before GPUs have been initialized\n",
    "                print(e)\n",
    "                strategy = tf.distribute.get_strategy()\n",
    "        else:\n",
    "            print('Device: CPU')\n",
    "            strategy = tf.distribute.get_strategy()\n",
    "    \n",
    "    print('Number of replicas:', strategy.num_replicas_in_sync)\n",
    "    return strategy\n",
    "\n",
    "AUTOTUNE = tf.data.experimental.AUTOTUNE\n",
    "AUTO = tf.data.experimental.AUTOTUNE   \n",
    "print('TensorFlow version:', tf.__version__)\n",
    "\n",
    "strategy = get_strategy()\n"
   ]
  },
  {
   "cell_type": "code",
   "execution_count": 75,
   "id": "98826a77",
   "metadata": {},
   "outputs": [
    {
     "name": "stdout",
     "output_type": "stream",
     "text": [
      "# 1st Author TFREC files:  1\n",
      "# 2nd Author TFREC files:  1\n"
     ]
    }
   ],
   "source": [
    "dataset_dir = os.path.join(os.path.expanduser(\"~\"),\"datasets\", \"handwriting\", \"IAM_Handwriting_Top50\")\n",
    "cropped_dir = os.path.join(dataset_dir, \"cropped\", \"author\")\n",
    "\n",
    "FIRST_AUTHOR_FILENAMES  = tf.io.gfile.glob(os.path.join(cropped_dir, \"000\", \"*.tfrec\"))\n",
    "SECOND_AUTHOR_FILENAMES = tf.io.gfile.glob(os.path.join(cropped_dir, \"150\", \"*.tfrec\"))\n",
    "\n",
    "print(\"# 1st Author TFREC files: \", len(FIRST_AUTHOR_FILENAMES))\n",
    "print(\"# 2nd Author TFREC files: \", len(SECOND_AUTHOR_FILENAMES))"
   ]
  },
  {
   "cell_type": "code",
   "execution_count": 76,
   "id": "3bc3ec40",
   "metadata": {},
   "outputs": [],
   "source": [
    "def data_augment_flip(image):\n",
    "    image = tf.image.random_flip_left_right(image)\n",
    "    return image"
   ]
  },
  {
   "cell_type": "code",
   "execution_count": 77,
   "id": "c37da17b",
   "metadata": {},
   "outputs": [],
   "source": [
    "IMAGE_SIZE = [150, 150]\n",
    "\n",
    "def decode_image(image):\n",
    "    image = tf.image.decode_png(image, channels=1)\n",
    "    # image = (tf.cast(image, tf.float32) / 127.5) - 1\n",
    "    image = tf.reshape(image, [*IMAGE_SIZE, 3])\n",
    "    return image\n",
    "\n",
    "def read_tfrecord(example):\n",
    "    tfrecord_format = {\n",
    "        \"image\": tf.io.FixedLenFeature([], tf.string)\n",
    "    }\n",
    "    example = tf.io.parse_single_example(example, tfrecord_format)\n",
    "    image = decode_image(example['image'])\n",
    "    return image"
   ]
  },
  {
   "cell_type": "code",
   "execution_count": 81,
   "id": "dcff760b",
   "metadata": {},
   "outputs": [],
   "source": [
    "def load_dataset(filenames):\n",
    "    dataset = tf.data.TFRecordDataset(filenames)\n",
    "    dataset = dataset.map(read_tfrecord, num_parallel_calls=AUTOTUNE)\n",
    "    return dataset\n",
    "\n",
    "BATCH_SIZE = 32\n",
    "\n",
    "first_author_ds = load_dataset(FIRST_AUTHOR_FILENAMES).batch(1)\n",
    "second_author_ds = load_dataset(SECOND_AUTHOR_FILENAMES).batch(1)\n",
    "\n",
    "fast_photo_ds = load_dataset(SECOND_AUTHOR_FILENAMES).batch(32*strategy.num_replicas_in_sync).prefetch(32)\n",
    "fid_photo_ds = load_dataset(SECOND_AUTHOR_FILENAMES).take(1024).batch(32*strategy.num_replicas_in_sync).prefetch(32)\n",
    "fid_monet_ds = load_dataset(FIRST_AUTHOR_FILENAMES).batch(32*strategy.num_replicas_in_sync).prefetch(32)"
   ]
  },
  {
   "cell_type": "code",
   "execution_count": 82,
   "id": "6e3b03a5",
   "metadata": {},
   "outputs": [],
   "source": [
    "def get_gan_dataset(first_auth_files, second_auth_files, augment=None, repeat=True, shuffle=True, batch_size=1):\n",
    "    first_ds = load_dataset(first_auth_files)\n",
    "    second_ds = load_dataset(second_auth_files)\n",
    "    \n",
    "    if repeat:\n",
    "        first_ds = first_ds.repeat()\n",
    "        second_ds = second_ds.repeat()\n",
    "    if shuffle:\n",
    "        first_ds = first_ds.shuffle(2048)\n",
    "        second_ds = second_ds.shuffle(2048)\n",
    "        \n",
    "    first_ds = first_ds.batch(batch_size, drop_remainder=True)\n",
    "    second_ds = second_ds.batch(batch_size, drop_remainder=True)\n",
    "    if augment:\n",
    "        monet_ds = first_ds.map(augment, num_parallel_calls=AUTO)\n",
    "        second_ds = second_ds.map(augment, num_parallel_calls=AUTO)\n",
    "        \n",
    "    first_ds = first_ds.prefetch(AUTO)\n",
    "    second_ds = second_ds.prefetch(AUTO)\n",
    "    \n",
    "    gan_ds = tf.data.Dataset.zip((first_ds, second_ds))\n",
    "    \n",
    "    return gan_ds\n",
    "\n",
    "def get_photo_dataset(second_auth_files, augment=None, repeat=False, shuffle=False, batch_size=1):\n",
    "    second_ds = load_dataset(second_auth_files)\n",
    "        \n",
    "    if repeat:\n",
    "        second_ds = second_ds.repeat()\n",
    "    if shuffle:\n",
    "        second_ds = second_ds.shuffle(2048)\n",
    "  \n",
    "    second_ds = second_ds.batch(batch_size, drop_remainder=True)\n",
    "    if augment:\n",
    "        second_ds = second_ds.map(augment, num_parallel_calls=AUTO)\n",
    "    \n",
    "    second_ds = second_ds.prefetch(AUTO)\n",
    "\n",
    "    return second_ds"
   ]
  },
  {
   "cell_type": "code",
   "execution_count": 83,
   "id": "0bede9fa",
   "metadata": {},
   "outputs": [],
   "source": [
    "final_dataset = get_gan_dataset(FIRST_AUTHOR_FILENAMES, \n",
    "                                SECOND_AUTHOR_FILENAMES, \n",
    "                                augment=data_augment_flip, \n",
    "                                repeat=True, \n",
    "                                shuffle=True, \n",
    "                                batch_size=BATCH_SIZE\n",
    "                               )"
   ]
  },
  {
   "cell_type": "code",
   "execution_count": 84,
   "id": "e532e517",
   "metadata": {},
   "outputs": [
    {
     "ename": "InvalidArgumentError",
     "evalue": "Graph execution error:\n\nDetected at node Reshape defined at (most recent call last):\n<stack traces unavailable>\nInput to reshape is a tensor with 22500 values, but the requested shape has 67500\n\t [[{{node Reshape}}]]\n\t [[IteratorGetNext]] [Op:__inference_predict_function_32252]",
     "output_type": "error",
     "traceback": [
      "\u001b[0;31m---------------------------------------------------------------------------\u001b[0m",
      "\u001b[0;31mInvalidArgumentError\u001b[0m                      Traceback (most recent call last)",
      "Cell \u001b[0;32mIn[84], line 19\u001b[0m\n\u001b[1;32m     17\u001b[0m         sigma \u001b[38;5;241m=\u001b[39m vx \u001b[38;5;241m-\u001b[39m mx\n\u001b[1;32m     18\u001b[0m         \u001b[38;5;28;01mreturn\u001b[39;00m mu, sigma\n\u001b[0;32m---> 19\u001b[0m myFID_mu2, myFID_sigma2 \u001b[38;5;241m=\u001b[39m \u001b[43mcalculate_activation_statistics_mod\u001b[49m\u001b[43m(\u001b[49m\u001b[43mfid_monet_ds\u001b[49m\u001b[43m,\u001b[49m\u001b[43minception_model\u001b[49m\u001b[43m)\u001b[49m        \n\u001b[1;32m     20\u001b[0m fids\u001b[38;5;241m=\u001b[39m[]\n",
      "Cell \u001b[0;32mIn[84], line 12\u001b[0m, in \u001b[0;36mcalculate_activation_statistics_mod\u001b[0;34m(images, fid_model)\u001b[0m\n\u001b[1;32m     11\u001b[0m \u001b[38;5;28;01mdef\u001b[39;00m \u001b[38;5;21mcalculate_activation_statistics_mod\u001b[39m(images,fid_model):\n\u001b[0;32m---> 12\u001b[0m         act\u001b[38;5;241m=\u001b[39mtf\u001b[38;5;241m.\u001b[39mcast(\u001b[43mfid_model\u001b[49m\u001b[38;5;241;43m.\u001b[39;49m\u001b[43mpredict\u001b[49m\u001b[43m(\u001b[49m\u001b[43mimages\u001b[49m\u001b[43m)\u001b[49m, tf\u001b[38;5;241m.\u001b[39mfloat32)\n\u001b[1;32m     13\u001b[0m         mu \u001b[38;5;241m=\u001b[39m tf\u001b[38;5;241m.\u001b[39mreduce_mean(act, axis\u001b[38;5;241m=\u001b[39m\u001b[38;5;241m0\u001b[39m)\n\u001b[1;32m     14\u001b[0m         mean_x \u001b[38;5;241m=\u001b[39m tf\u001b[38;5;241m.\u001b[39mreduce_mean(act, axis\u001b[38;5;241m=\u001b[39m\u001b[38;5;241m0\u001b[39m, keepdims\u001b[38;5;241m=\u001b[39m\u001b[38;5;28;01mTrue\u001b[39;00m)\n",
      "File \u001b[0;32m/opt/homebrew/lib/python3.11/site-packages/keras/src/utils/traceback_utils.py:70\u001b[0m, in \u001b[0;36mfilter_traceback.<locals>.error_handler\u001b[0;34m(*args, **kwargs)\u001b[0m\n\u001b[1;32m     67\u001b[0m     filtered_tb \u001b[38;5;241m=\u001b[39m _process_traceback_frames(e\u001b[38;5;241m.\u001b[39m__traceback__)\n\u001b[1;32m     68\u001b[0m     \u001b[38;5;66;03m# To get the full stack trace, call:\u001b[39;00m\n\u001b[1;32m     69\u001b[0m     \u001b[38;5;66;03m# `tf.debugging.disable_traceback_filtering()`\u001b[39;00m\n\u001b[0;32m---> 70\u001b[0m     \u001b[38;5;28;01mraise\u001b[39;00m e\u001b[38;5;241m.\u001b[39mwith_traceback(filtered_tb) \u001b[38;5;28;01mfrom\u001b[39;00m \u001b[38;5;28mNone\u001b[39m\n\u001b[1;32m     71\u001b[0m \u001b[38;5;28;01mfinally\u001b[39;00m:\n\u001b[1;32m     72\u001b[0m     \u001b[38;5;28;01mdel\u001b[39;00m filtered_tb\n",
      "File \u001b[0;32m/opt/homebrew/lib/python3.11/site-packages/tensorflow/python/eager/execute.py:60\u001b[0m, in \u001b[0;36mquick_execute\u001b[0;34m(op_name, num_outputs, inputs, attrs, ctx, name)\u001b[0m\n\u001b[1;32m     53\u001b[0m   \u001b[38;5;66;03m# Convert any objects of type core_types.Tensor to Tensor.\u001b[39;00m\n\u001b[1;32m     54\u001b[0m   inputs \u001b[38;5;241m=\u001b[39m [\n\u001b[1;32m     55\u001b[0m       tensor_conversion_registry\u001b[38;5;241m.\u001b[39mconvert(t)\n\u001b[1;32m     56\u001b[0m       \u001b[38;5;28;01mif\u001b[39;00m \u001b[38;5;28misinstance\u001b[39m(t, core_types\u001b[38;5;241m.\u001b[39mTensor)\n\u001b[1;32m     57\u001b[0m       \u001b[38;5;28;01melse\u001b[39;00m t\n\u001b[1;32m     58\u001b[0m       \u001b[38;5;28;01mfor\u001b[39;00m t \u001b[38;5;129;01min\u001b[39;00m inputs\n\u001b[1;32m     59\u001b[0m   ]\n\u001b[0;32m---> 60\u001b[0m   tensors \u001b[38;5;241m=\u001b[39m pywrap_tfe\u001b[38;5;241m.\u001b[39mTFE_Py_Execute(ctx\u001b[38;5;241m.\u001b[39m_handle, device_name, op_name,\n\u001b[1;32m     61\u001b[0m                                       inputs, attrs, num_outputs)\n\u001b[1;32m     62\u001b[0m \u001b[38;5;28;01mexcept\u001b[39;00m core\u001b[38;5;241m.\u001b[39m_NotOkStatusException \u001b[38;5;28;01mas\u001b[39;00m e:\n\u001b[1;32m     63\u001b[0m   \u001b[38;5;28;01mif\u001b[39;00m name \u001b[38;5;129;01mis\u001b[39;00m \u001b[38;5;129;01mnot\u001b[39;00m \u001b[38;5;28;01mNone\u001b[39;00m:\n",
      "\u001b[0;31mInvalidArgumentError\u001b[0m: Graph execution error:\n\nDetected at node Reshape defined at (most recent call last):\n<stack traces unavailable>\nInput to reshape is a tensor with 22500 values, but the requested shape has 67500\n\t [[{{node Reshape}}]]\n\t [[IteratorGetNext]] [Op:__inference_predict_function_32252]"
     ]
    }
   ],
   "source": [
    "with strategy.scope():\n",
    "    inception_model = tf.keras.applications.InceptionV3(input_shape=(150,150,3),pooling=\"avg\",include_top=False)\n",
    "\n",
    "\n",
    "    mix3  = inception_model.get_layer(\"mixed9\").output\n",
    "    f0 = tf.keras.layers.GlobalAveragePooling2D()(mix3)\n",
    "\n",
    "    inception_model = tf.keras.Model(inputs=inception_model.input, outputs=f0)\n",
    "    inception_model.trainable = False\n",
    "\n",
    "    def calculate_activation_statistics_mod(images,fid_model):\n",
    "            act=tf.cast(fid_model.predict(images), tf.float32)\n",
    "            mu = tf.reduce_mean(act, axis=0)\n",
    "            mean_x = tf.reduce_mean(act, axis=0, keepdims=True)\n",
    "            mx = tf.matmul(tf.transpose(mean_x), mean_x)\n",
    "            vx = tf.matmul(tf.transpose(act), act)/tf.cast(tf.shape(act)[0], tf.float32)\n",
    "            sigma = vx - mx\n",
    "            return mu, sigma\n",
    "    myFID_mu2, myFID_sigma2 = calculate_activation_statistics_mod(fid_monet_ds,inception_model)        \n",
    "    fids=[]"
   ]
  },
  {
   "cell_type": "code",
   "execution_count": null,
   "id": "6e22b2b2",
   "metadata": {},
   "outputs": [],
   "source": []
  }
 ],
 "metadata": {
  "kernelspec": {
   "display_name": "Python 3 (ipykernel)",
   "language": "python",
   "name": "python3"
  },
  "language_info": {
   "codemirror_mode": {
    "name": "ipython",
    "version": 3
   },
   "file_extension": ".py",
   "mimetype": "text/x-python",
   "name": "python",
   "nbconvert_exporter": "python",
   "pygments_lexer": "ipython3",
   "version": "3.11.5"
  }
 },
 "nbformat": 4,
 "nbformat_minor": 5
}
